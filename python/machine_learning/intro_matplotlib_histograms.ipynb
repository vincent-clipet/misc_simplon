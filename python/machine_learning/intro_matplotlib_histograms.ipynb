{
 "cells": [
  {
   "attachments": {},
   "cell_type": "markdown",
   "metadata": {},
   "source": [
    "##### Imports & load dataset"
   ]
  },
  {
   "cell_type": "code",
   "execution_count": 1,
   "metadata": {},
   "outputs": [],
   "source": [
    "import matplotlib.pyplot as plt\n",
    "import numpy as np\n",
    "from sklearn.datasets import load_iris\n",
    "from mpl_toolkits.mplot3d import Axes3D\n",
    "\n",
    "# %matplotlib\n",
    "# Will open graphs in a new window. Only useful to move in 3D space with Jupyter Notebook\n",
    "\n",
    "# Load data\n",
    "iris = load_iris()\n",
    "x = iris.data\n",
    "y = iris.target\n",
    "names = list(iris.target_names)"
   ]
  },
  {
   "attachments": {},
   "cell_type": "markdown",
   "metadata": {},
   "source": [
    "##### Basic 3D graph"
   ]
  },
  {
   "cell_type": "code",
   "execution_count": 2,
   "metadata": {},
   "outputs": [
    {
     "data": {
      "text/plain": [
       "<mpl_toolkits.mplot3d.art3d.Path3DCollection at 0x1f216227610>"
      ]
     },
     "execution_count": 2,
     "metadata": {},
     "output_type": "execute_result"
    }
   ],
   "source": [
    "axe = plt.axes(projection=\"3d\")\n",
    "axe.scatter(x[:,0], x[:,1], x[:,2], c=y)"
   ]
  },
  {
   "attachments": {},
   "cell_type": "markdown",
   "metadata": {},
   "source": [
    "##### 3D graph with surface"
   ]
  },
  {
   "cell_type": "code",
   "execution_count": 3,
   "metadata": {},
   "outputs": [
    {
     "data": {
      "text/plain": [
       "<mpl_toolkits.mplot3d.art3d.Poly3DCollection at 0x1f2172a5ab0>"
      ]
     },
     "execution_count": 3,
     "metadata": {},
     "output_type": "execute_result"
    }
   ],
   "source": [
    "f = lambda x, y: np.sin(x) + np.cos(x+y)\n",
    "axe_x = np.linspace(0, 5, 100)\n",
    "axe_y = np.linspace(0, 5, 100)\n",
    "\n",
    "x, y = np.meshgrid(axe_x, axe_y)\n",
    "z = f(x, y)\n",
    "\n",
    "axe = plt.axes(projection=\"3d\")\n",
    "axe.plot_surface(x,y,z,cmap='plasma')"
   ]
  },
  {
   "attachments": {},
   "cell_type": "markdown",
   "metadata": {},
   "source": [
    "##### Histogram"
   ]
  },
  {
   "cell_type": "code",
   "execution_count": 2,
   "metadata": {},
   "outputs": [
    {
     "data": {
      "text/plain": [
       "(array([ 1.,  3.,  4.,  3.,  8., 14., 14., 10., 26., 11., 19., 12.,  6.,\n",
       "         4.,  9.,  2.,  1.,  1.,  1.,  1.]),\n",
       " array([2.  , 2.12, 2.24, 2.36, 2.48, 2.6 , 2.72, 2.84, 2.96, 3.08, 3.2 ,\n",
       "        3.32, 3.44, 3.56, 3.68, 3.8 , 3.92, 4.04, 4.16, 4.28, 4.4 ]),\n",
       " <BarContainer object of 20 artists>)"
      ]
     },
     "execution_count": 2,
     "metadata": {},
     "output_type": "execute_result"
    }
   ],
   "source": [
    "plt.close()\n",
    "plt.hist(x[:,0], color=\"red\", bins=20)\n",
    "plt.hist(x[:,1], bins=20)\n",
    "# bins : number of columns in the histogram"
   ]
  },
  {
   "attachments": {},
   "cell_type": "markdown",
   "metadata": {},
   "source": [
    "##### Histogram 2D"
   ]
  },
  {
   "cell_type": "code",
   "execution_count": 5,
   "metadata": {},
   "outputs": [
    {
     "data": {
      "text/plain": [
       "<matplotlib.colorbar.Colorbar at 0x1f2193bb760>"
      ]
     },
     "execution_count": 5,
     "metadata": {},
     "output_type": "execute_result"
    }
   ],
   "source": [
    "plt.close()\n",
    "plt.hist2d(x[:,0], x[:,1], cmap=\"Greens\")\n",
    "plt.xlabel(\"length\")\n",
    "plt.ylabel(\"width\")\n",
    "plt.colorbar()"
   ]
  },
  {
   "attachments": {},
   "cell_type": "markdown",
   "metadata": {},
   "source": [
    "___\n",
    "##### Represent image in histogram"
   ]
  },
  {
   "cell_type": "code",
   "execution_count": 5,
   "metadata": {},
   "outputs": [
    {
     "data": {
      "text/plain": [
       "(array([2.900e+01, 6.600e+01, 5.700e+01, 1.300e+02, 3.920e+02, 8.390e+02,\n",
       "        1.841e+03, 2.727e+03, 2.963e+03, 2.453e+03, 1.944e+03, 1.955e+03,\n",
       "        2.176e+03, 2.567e+03, 2.775e+03, 3.073e+03, 2.973e+03, 3.565e+03,\n",
       "        3.408e+03, 3.663e+03, 3.491e+03, 3.339e+03, 3.201e+03, 3.188e+03,\n",
       "        3.071e+03, 3.127e+03, 2.945e+03, 2.709e+03, 2.690e+03, 2.509e+03,\n",
       "        2.444e+03, 2.388e+03, 2.420e+03, 2.356e+03, 2.405e+03, 2.325e+03,\n",
       "        2.458e+03, 2.330e+03, 2.348e+03, 2.314e+03, 2.341e+03, 2.455e+03,\n",
       "        2.257e+03, 2.310e+03, 2.335e+03, 2.397e+03, 2.486e+03, 2.445e+03,\n",
       "        2.497e+03, 2.459e+03, 0.000e+00, 2.653e+03, 2.617e+03, 2.731e+03,\n",
       "        2.767e+03, 2.904e+03, 2.854e+03, 3.099e+03, 3.209e+03, 3.189e+03,\n",
       "        3.358e+03, 3.396e+03, 3.458e+03, 3.460e+03, 3.589e+03, 3.768e+03,\n",
       "        3.742e+03, 3.637e+03, 3.585e+03, 3.639e+03, 3.782e+03, 3.656e+03,\n",
       "        3.717e+03, 3.783e+03, 3.773e+03, 3.801e+03, 3.880e+03, 3.790e+03,\n",
       "        3.859e+03, 3.947e+03, 3.889e+03, 4.133e+03, 4.210e+03, 4.357e+03,\n",
       "        4.442e+03, 4.419e+03, 4.610e+03, 4.637e+03, 4.782e+03, 4.720e+03,\n",
       "        4.794e+03, 4.773e+03, 4.630e+03, 4.600e+03, 4.708e+03, 4.862e+03,\n",
       "        4.698e+03, 4.947e+03, 5.047e+03, 4.880e+03, 5.140e+03, 0.000e+00,\n",
       "        5.169e+03, 5.161e+03, 5.092e+03, 5.168e+03, 5.184e+03, 5.014e+03,\n",
       "        4.961e+03, 5.129e+03, 4.964e+03, 4.962e+03, 4.927e+03, 5.240e+03,\n",
       "        4.973e+03, 4.959e+03, 5.075e+03, 5.005e+03, 5.183e+03, 5.037e+03,\n",
       "        5.098e+03, 5.264e+03, 5.119e+03, 5.166e+03, 5.241e+03, 5.246e+03,\n",
       "        5.308e+03, 5.078e+03, 5.088e+03, 5.123e+03, 4.931e+03, 4.917e+03,\n",
       "        5.116e+03, 4.962e+03, 4.998e+03, 5.032e+03, 4.852e+03, 4.917e+03,\n",
       "        4.793e+03, 4.801e+03, 4.748e+03, 4.703e+03, 4.688e+03, 4.784e+03,\n",
       "        4.633e+03, 4.655e+03, 4.672e+03, 4.739e+03, 4.498e+03, 4.464e+03,\n",
       "        4.359e+03, 4.239e+03, 0.000e+00, 4.258e+03, 4.285e+03, 4.264e+03,\n",
       "        4.222e+03, 4.232e+03, 4.338e+03, 4.221e+03, 4.305e+03, 4.329e+03,\n",
       "        4.216e+03, 4.572e+03, 4.264e+03, 4.266e+03, 4.266e+03, 4.102e+03,\n",
       "        4.229e+03, 4.194e+03, 4.141e+03, 4.138e+03, 3.949e+03, 4.025e+03,\n",
       "        3.788e+03, 3.830e+03, 3.788e+03, 3.902e+03, 3.685e+03, 3.581e+03,\n",
       "        3.572e+03, 3.550e+03, 3.598e+03, 3.450e+03, 3.436e+03, 3.388e+03,\n",
       "        3.404e+03, 3.339e+03, 3.232e+03, 3.258e+03, 3.262e+03, 3.279e+03,\n",
       "        3.325e+03, 3.161e+03, 3.254e+03, 3.108e+03, 3.077e+03, 3.094e+03,\n",
       "        2.969e+03, 2.890e+03, 2.690e+03, 2.678e+03, 2.513e+03, 0.000e+00,\n",
       "        2.445e+03, 2.357e+03, 2.201e+03, 2.160e+03, 2.057e+03, 1.884e+03,\n",
       "        1.796e+03, 1.744e+03, 1.654e+03, 1.621e+03, 1.519e+03, 1.412e+03,\n",
       "        1.398e+03, 1.241e+03, 1.187e+03, 1.085e+03, 9.940e+02, 9.380e+02,\n",
       "        8.810e+02, 8.620e+02, 7.310e+02, 6.970e+02, 6.270e+02, 5.380e+02,\n",
       "        5.100e+02, 4.330e+02, 3.740e+02, 3.720e+02, 3.590e+02, 3.060e+02,\n",
       "        2.950e+02, 2.830e+02, 2.650e+02, 2.260e+02, 2.080e+02, 1.840e+02,\n",
       "        1.630e+02, 1.790e+02, 1.880e+02, 1.900e+02, 1.900e+02, 1.700e+02,\n",
       "        1.660e+02, 1.300e+02, 1.130e+02, 9.700e+01, 5.000e+01, 3.300e+01,\n",
       "        7.000e+00, 2.000e+00, 1.000e+00]),\n",
       " array([  0.        ,   0.98039216,   1.96078431,   2.94117647,\n",
       "          3.92156863,   4.90196078,   5.88235294,   6.8627451 ,\n",
       "          7.84313725,   8.82352941,   9.80392157,  10.78431373,\n",
       "         11.76470588,  12.74509804,  13.7254902 ,  14.70588235,\n",
       "         15.68627451,  16.66666667,  17.64705882,  18.62745098,\n",
       "         19.60784314,  20.58823529,  21.56862745,  22.54901961,\n",
       "         23.52941176,  24.50980392,  25.49019608,  26.47058824,\n",
       "         27.45098039,  28.43137255,  29.41176471,  30.39215686,\n",
       "         31.37254902,  32.35294118,  33.33333333,  34.31372549,\n",
       "         35.29411765,  36.2745098 ,  37.25490196,  38.23529412,\n",
       "         39.21568627,  40.19607843,  41.17647059,  42.15686275,\n",
       "         43.1372549 ,  44.11764706,  45.09803922,  46.07843137,\n",
       "         47.05882353,  48.03921569,  49.01960784,  50.        ,\n",
       "         50.98039216,  51.96078431,  52.94117647,  53.92156863,\n",
       "         54.90196078,  55.88235294,  56.8627451 ,  57.84313725,\n",
       "         58.82352941,  59.80392157,  60.78431373,  61.76470588,\n",
       "         62.74509804,  63.7254902 ,  64.70588235,  65.68627451,\n",
       "         66.66666667,  67.64705882,  68.62745098,  69.60784314,\n",
       "         70.58823529,  71.56862745,  72.54901961,  73.52941176,\n",
       "         74.50980392,  75.49019608,  76.47058824,  77.45098039,\n",
       "         78.43137255,  79.41176471,  80.39215686,  81.37254902,\n",
       "         82.35294118,  83.33333333,  84.31372549,  85.29411765,\n",
       "         86.2745098 ,  87.25490196,  88.23529412,  89.21568627,\n",
       "         90.19607843,  91.17647059,  92.15686275,  93.1372549 ,\n",
       "         94.11764706,  95.09803922,  96.07843137,  97.05882353,\n",
       "         98.03921569,  99.01960784, 100.        , 100.98039216,\n",
       "        101.96078431, 102.94117647, 103.92156863, 104.90196078,\n",
       "        105.88235294, 106.8627451 , 107.84313725, 108.82352941,\n",
       "        109.80392157, 110.78431373, 111.76470588, 112.74509804,\n",
       "        113.7254902 , 114.70588235, 115.68627451, 116.66666667,\n",
       "        117.64705882, 118.62745098, 119.60784314, 120.58823529,\n",
       "        121.56862745, 122.54901961, 123.52941176, 124.50980392,\n",
       "        125.49019608, 126.47058824, 127.45098039, 128.43137255,\n",
       "        129.41176471, 130.39215686, 131.37254902, 132.35294118,\n",
       "        133.33333333, 134.31372549, 135.29411765, 136.2745098 ,\n",
       "        137.25490196, 138.23529412, 139.21568627, 140.19607843,\n",
       "        141.17647059, 142.15686275, 143.1372549 , 144.11764706,\n",
       "        145.09803922, 146.07843137, 147.05882353, 148.03921569,\n",
       "        149.01960784, 150.        , 150.98039216, 151.96078431,\n",
       "        152.94117647, 153.92156863, 154.90196078, 155.88235294,\n",
       "        156.8627451 , 157.84313725, 158.82352941, 159.80392157,\n",
       "        160.78431373, 161.76470588, 162.74509804, 163.7254902 ,\n",
       "        164.70588235, 165.68627451, 166.66666667, 167.64705882,\n",
       "        168.62745098, 169.60784314, 170.58823529, 171.56862745,\n",
       "        172.54901961, 173.52941176, 174.50980392, 175.49019608,\n",
       "        176.47058824, 177.45098039, 178.43137255, 179.41176471,\n",
       "        180.39215686, 181.37254902, 182.35294118, 183.33333333,\n",
       "        184.31372549, 185.29411765, 186.2745098 , 187.25490196,\n",
       "        188.23529412, 189.21568627, 190.19607843, 191.17647059,\n",
       "        192.15686275, 193.1372549 , 194.11764706, 195.09803922,\n",
       "        196.07843137, 197.05882353, 198.03921569, 199.01960784,\n",
       "        200.        , 200.98039216, 201.96078431, 202.94117647,\n",
       "        203.92156863, 204.90196078, 205.88235294, 206.8627451 ,\n",
       "        207.84313725, 208.82352941, 209.80392157, 210.78431373,\n",
       "        211.76470588, 212.74509804, 213.7254902 , 214.70588235,\n",
       "        215.68627451, 216.66666667, 217.64705882, 218.62745098,\n",
       "        219.60784314, 220.58823529, 221.56862745, 222.54901961,\n",
       "        223.52941176, 224.50980392, 225.49019608, 226.47058824,\n",
       "        227.45098039, 228.43137255, 229.41176471, 230.39215686,\n",
       "        231.37254902, 232.35294118, 233.33333333, 234.31372549,\n",
       "        235.29411765, 236.2745098 , 237.25490196, 238.23529412,\n",
       "        239.21568627, 240.19607843, 241.17647059, 242.15686275,\n",
       "        243.1372549 , 244.11764706, 245.09803922, 246.07843137,\n",
       "        247.05882353, 248.03921569, 249.01960784, 250.        ]),\n",
       " <BarContainer object of 255 artists>)"
      ]
     },
     "execution_count": 5,
     "metadata": {},
     "output_type": "execute_result"
    },
    {
     "data": {
      "image/png": "[encoded data removed]",
      "text/plain": [
       "<Figure size 640x480 with 1 Axes>"
      ]
     },
     "metadata": {},
     "output_type": "display_data"
    }
   ],
   "source": [
    "import scipy.datasets\n",
    "face = scipy.datasets.face(gray=True) # 2D array cotaining all pixal values. face[line][pixel]\n",
    "# plt.imshow(face, cmap=\"gray\")\n",
    "plt.hist(face.ravel(), bins=255) # displays the spread of pixel value for this image"
   ]
  }
 ],
 "metadata": {
  "kernelspec": {
   "display_name": "base",
   "language": "python",
   "name": "python3"
  },
  "language_info": {
   "codemirror_mode": {
    "name": "ipython",
    "version": 3
   },
   "file_extension": ".py",
   "mimetype": "text/x-python",
   "name": "python",
   "nbconvert_exporter": "python",
   "pygments_lexer": "ipython3",
   "version": "3.10.10"
  },
  "orig_nbformat": 4
 },
 "nbformat": 4,
 "nbformat_minor": 2
}
